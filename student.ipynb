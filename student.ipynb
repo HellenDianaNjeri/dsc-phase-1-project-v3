{
 "cells": [
  {
   "cell_type": "markdown",
   "metadata": {},
   "source": [
    "## Final Project Submission\n",
    "\n",
    "Please fill out:\n",
    "* Student name: HELLEN DIANA NJERI MACHARIA\n",
    "* Student pace:  part time \n",
    "* Scheduled project review date/time: \n",
    "* Instructor name: MARYANNE MWIKALI\n",
    "* Blog post URL:\n"
   ]
  },
  {
   "cell_type": "markdown",
   "metadata": {},
   "source": [
    "# AVIATION DATA ANALYSIS\n",
    "\n",
    "## BUSINESS UNDERSTANDING\n",
    "\n",
    "### INTRODUCTION\n",
    "\n",
    "As a strategic plan to diversify its portfolio, our company plans to enter the aviation industry by purchasing and operating airplanes for commercial and private enterprises. \n",
    "However, the company currently lacks knowledge regarding the potential risks associated with different types of aircraft.\n",
    "This project aims to provide a data-driven evaluation of various aircrafts to guide the company in making informed purchasing decisions.\n",
    "\n"
   ]
  },
  {
   "cell_type": "markdown",
   "metadata": {},
   "source": [
    "### STAKEHOLDERS\n",
    "\n",
    "The primary stakeholders are:\n",
    "\n",
    ". Head of Aviation Division\n",
    "\n",
    "  Responsible to select which aircraft to purchase based on the findings of the project for the best interest of the company.\n",
    "\n",
    ". Executive management Team\n",
    "  \n",
    "  Ensures that the project aligns with the company's risk standards and is financially viable.\n",
    "\n",
    ". Operation managers. \n",
    "  \n",
    "  Implement the insights to plan for staffing,logistics and maintenance.\n",
    "\n",
    "  ### The stakeholders will use the project findings to:\n",
    "\n",
    "  . Select the aircraft with low accident rates and strong safety records.\n",
    "  \n",
    "  . Estimate the maintenance costs associated with the aircraft selected.\n",
    "  "
   ]
  },
  {
   "cell_type": "markdown",
   "metadata": {},
   "source": [
    "# Conclusion\n",
    "\n",
    "The project provides actionable insights that will guide the aviation division make strategic purchasing decisions by selecting safer and more reliable aircrafts that will give the company a soft landing in their quest to diversify their porfolio.\n",
    "\n",
    "By making this informed decision,the company will enjoy operational excellence,customer trust and a successful entry into the aviation sector."
   ]
  },
  {
   "cell_type": "markdown",
   "metadata": {},
   "source": [
    "\n",
    "## Import the relevant libraries\n",
    "\n",
    "In this cell we import the relevant libraries needed for data manipulation and visualization\n",
    "\n"
   ]
  },
  {
   "cell_type": "code",
   "execution_count": 74,
   "metadata": {},
   "outputs": [],
   "source": [
    "# Run this cell to import the required libraries\n",
    "import pandas as pd\n",
    "import numpy as np\n",
    "import seaborn as sns\n",
    "import matplotlib.pyplot as plt\n",
    "%matplotlib inline"
   ]
  },
  {
   "cell_type": "markdown",
   "metadata": {},
   "source": [
    "## Load the Data into a data frame called 'Aviation_df'\n",
    "\n",
    "In this repository under the file path 'data\\Aviation_Data.csv' there is a CSV file containing information about Aviation data.\n",
    "\n",
    "We will load the csv file into a dataframe."
   ]
  },
  {
   "cell_type": "code",
   "execution_count": 75,
   "metadata": {},
   "outputs": [
    {
     "name": "stderr",
     "output_type": "stream",
     "text": [
      "c:\\Users\\helle\\anaconda3\\envs\\learn-env\\lib\\site-packages\\IPython\\core\\interactiveshell.py:3145: DtypeWarning: Columns (6,7,28) have mixed types.Specify dtype option on import or set low_memory=False.\n",
      "  has_raised = await self.run_ast_nodes(code_ast.body, cell_name,\n"
     ]
    },
    {
     "data": {
      "text/html": [
       "<div>\n",
       "<style scoped>\n",
       "    .dataframe tbody tr th:only-of-type {\n",
       "        vertical-align: middle;\n",
       "    }\n",
       "\n",
       "    .dataframe tbody tr th {\n",
       "        vertical-align: top;\n",
       "    }\n",
       "\n",
       "    .dataframe thead th {\n",
       "        text-align: right;\n",
       "    }\n",
       "</style>\n",
       "<table border=\"1\" class=\"dataframe\">\n",
       "  <thead>\n",
       "    <tr style=\"text-align: right;\">\n",
       "      <th></th>\n",
       "      <th>Event.Id</th>\n",
       "      <th>Investigation.Type</th>\n",
       "      <th>Accident.Number</th>\n",
       "      <th>Event.Date</th>\n",
       "      <th>Location</th>\n",
       "      <th>Country</th>\n",
       "      <th>Latitude</th>\n",
       "      <th>Longitude</th>\n",
       "      <th>Airport.Code</th>\n",
       "      <th>Airport.Name</th>\n",
       "      <th>...</th>\n",
       "      <th>Purpose.of.flight</th>\n",
       "      <th>Air.carrier</th>\n",
       "      <th>Total.Fatal.Injuries</th>\n",
       "      <th>Total.Serious.Injuries</th>\n",
       "      <th>Total.Minor.Injuries</th>\n",
       "      <th>Total.Uninjured</th>\n",
       "      <th>Weather.Condition</th>\n",
       "      <th>Broad.phase.of.flight</th>\n",
       "      <th>Report.Status</th>\n",
       "      <th>Publication.Date</th>\n",
       "    </tr>\n",
       "  </thead>\n",
       "  <tbody>\n",
       "    <tr>\n",
       "      <th>0</th>\n",
       "      <td>20001218X45444</td>\n",
       "      <td>Accident</td>\n",
       "      <td>SEA87LA080</td>\n",
       "      <td>1948-10-24</td>\n",
       "      <td>MOOSE CREEK, ID</td>\n",
       "      <td>United States</td>\n",
       "      <td>NaN</td>\n",
       "      <td>NaN</td>\n",
       "      <td>NaN</td>\n",
       "      <td>NaN</td>\n",
       "      <td>...</td>\n",
       "      <td>Personal</td>\n",
       "      <td>NaN</td>\n",
       "      <td>2.0</td>\n",
       "      <td>0.0</td>\n",
       "      <td>0.0</td>\n",
       "      <td>0.0</td>\n",
       "      <td>UNK</td>\n",
       "      <td>Cruise</td>\n",
       "      <td>Probable Cause</td>\n",
       "      <td>NaN</td>\n",
       "    </tr>\n",
       "    <tr>\n",
       "      <th>1</th>\n",
       "      <td>20001218X45447</td>\n",
       "      <td>Accident</td>\n",
       "      <td>LAX94LA336</td>\n",
       "      <td>1962-07-19</td>\n",
       "      <td>BRIDGEPORT, CA</td>\n",
       "      <td>United States</td>\n",
       "      <td>NaN</td>\n",
       "      <td>NaN</td>\n",
       "      <td>NaN</td>\n",
       "      <td>NaN</td>\n",
       "      <td>...</td>\n",
       "      <td>Personal</td>\n",
       "      <td>NaN</td>\n",
       "      <td>4.0</td>\n",
       "      <td>0.0</td>\n",
       "      <td>0.0</td>\n",
       "      <td>0.0</td>\n",
       "      <td>UNK</td>\n",
       "      <td>Unknown</td>\n",
       "      <td>Probable Cause</td>\n",
       "      <td>19-09-1996</td>\n",
       "    </tr>\n",
       "    <tr>\n",
       "      <th>2</th>\n",
       "      <td>20061025X01555</td>\n",
       "      <td>Accident</td>\n",
       "      <td>NYC07LA005</td>\n",
       "      <td>1974-08-30</td>\n",
       "      <td>Saltville, VA</td>\n",
       "      <td>United States</td>\n",
       "      <td>36.9222</td>\n",
       "      <td>-81.8781</td>\n",
       "      <td>NaN</td>\n",
       "      <td>NaN</td>\n",
       "      <td>...</td>\n",
       "      <td>Personal</td>\n",
       "      <td>NaN</td>\n",
       "      <td>3.0</td>\n",
       "      <td>NaN</td>\n",
       "      <td>NaN</td>\n",
       "      <td>NaN</td>\n",
       "      <td>IMC</td>\n",
       "      <td>Cruise</td>\n",
       "      <td>Probable Cause</td>\n",
       "      <td>26-02-2007</td>\n",
       "    </tr>\n",
       "    <tr>\n",
       "      <th>3</th>\n",
       "      <td>20001218X45448</td>\n",
       "      <td>Accident</td>\n",
       "      <td>LAX96LA321</td>\n",
       "      <td>1977-06-19</td>\n",
       "      <td>EUREKA, CA</td>\n",
       "      <td>United States</td>\n",
       "      <td>NaN</td>\n",
       "      <td>NaN</td>\n",
       "      <td>NaN</td>\n",
       "      <td>NaN</td>\n",
       "      <td>...</td>\n",
       "      <td>Personal</td>\n",
       "      <td>NaN</td>\n",
       "      <td>2.0</td>\n",
       "      <td>0.0</td>\n",
       "      <td>0.0</td>\n",
       "      <td>0.0</td>\n",
       "      <td>IMC</td>\n",
       "      <td>Cruise</td>\n",
       "      <td>Probable Cause</td>\n",
       "      <td>12-09-2000</td>\n",
       "    </tr>\n",
       "    <tr>\n",
       "      <th>4</th>\n",
       "      <td>20041105X01764</td>\n",
       "      <td>Accident</td>\n",
       "      <td>CHI79FA064</td>\n",
       "      <td>1979-08-02</td>\n",
       "      <td>Canton, OH</td>\n",
       "      <td>United States</td>\n",
       "      <td>NaN</td>\n",
       "      <td>NaN</td>\n",
       "      <td>NaN</td>\n",
       "      <td>NaN</td>\n",
       "      <td>...</td>\n",
       "      <td>Personal</td>\n",
       "      <td>NaN</td>\n",
       "      <td>1.0</td>\n",
       "      <td>2.0</td>\n",
       "      <td>NaN</td>\n",
       "      <td>0.0</td>\n",
       "      <td>VMC</td>\n",
       "      <td>Approach</td>\n",
       "      <td>Probable Cause</td>\n",
       "      <td>16-04-1980</td>\n",
       "    </tr>\n",
       "  </tbody>\n",
       "</table>\n",
       "<p>5 rows × 31 columns</p>\n",
       "</div>"
      ],
      "text/plain": [
       "         Event.Id Investigation.Type Accident.Number  Event.Date  \\\n",
       "0  20001218X45444           Accident      SEA87LA080  1948-10-24   \n",
       "1  20001218X45447           Accident      LAX94LA336  1962-07-19   \n",
       "2  20061025X01555           Accident      NYC07LA005  1974-08-30   \n",
       "3  20001218X45448           Accident      LAX96LA321  1977-06-19   \n",
       "4  20041105X01764           Accident      CHI79FA064  1979-08-02   \n",
       "\n",
       "          Location        Country Latitude Longitude Airport.Code  \\\n",
       "0  MOOSE CREEK, ID  United States      NaN       NaN          NaN   \n",
       "1   BRIDGEPORT, CA  United States      NaN       NaN          NaN   \n",
       "2    Saltville, VA  United States  36.9222  -81.8781          NaN   \n",
       "3       EUREKA, CA  United States      NaN       NaN          NaN   \n",
       "4       Canton, OH  United States      NaN       NaN          NaN   \n",
       "\n",
       "  Airport.Name  ... Purpose.of.flight Air.carrier Total.Fatal.Injuries  \\\n",
       "0          NaN  ...          Personal         NaN                  2.0   \n",
       "1          NaN  ...          Personal         NaN                  4.0   \n",
       "2          NaN  ...          Personal         NaN                  3.0   \n",
       "3          NaN  ...          Personal         NaN                  2.0   \n",
       "4          NaN  ...          Personal         NaN                  1.0   \n",
       "\n",
       "  Total.Serious.Injuries Total.Minor.Injuries Total.Uninjured  \\\n",
       "0                    0.0                  0.0             0.0   \n",
       "1                    0.0                  0.0             0.0   \n",
       "2                    NaN                  NaN             NaN   \n",
       "3                    0.0                  0.0             0.0   \n",
       "4                    2.0                  NaN             0.0   \n",
       "\n",
       "  Weather.Condition  Broad.phase.of.flight   Report.Status Publication.Date  \n",
       "0               UNK                 Cruise  Probable Cause              NaN  \n",
       "1               UNK                Unknown  Probable Cause       19-09-1996  \n",
       "2               IMC                 Cruise  Probable Cause       26-02-2007  \n",
       "3               IMC                 Cruise  Probable Cause       12-09-2000  \n",
       "4               VMC               Approach  Probable Cause       16-04-1980  \n",
       "\n",
       "[5 rows x 31 columns]"
      ]
     },
     "execution_count": 75,
     "metadata": {},
     "output_type": "execute_result"
    }
   ],
   "source": [
    "# load the data\n",
    "file_path = 'data\\Aviation_Data.csv'\n",
    "Aviation_df=pd.read_csv('data\\Aviation_Data.csv')\n",
    "Aviation_df.head() # Display the first 5 rows of the dataframe"
   ]
  },
  {
   "cell_type": "markdown",
   "metadata": {},
   "source": [
    "Create a copy of the dataframe to ensure you can make changes to the data without altering the original dataset"
   ]
  },
  {
   "cell_type": "code",
   "execution_count": 76,
   "metadata": {},
   "outputs": [],
   "source": [
    "# create a copy of the dataframe\n",
    "Aviation_df_cleaned = Aviation_df.copy()"
   ]
  },
  {
   "cell_type": "markdown",
   "metadata": {},
   "source": [
    "## Inspect the data\n",
    "\n",
    "In this section we are going to understand the data structure by inspecting :\n",
    "- Shape\n",
    "- Column names\n",
    "- Data Types\n",
    "- Duplicates\n",
    "- Missing Values\n",
    "- Descriptive statistics\n",
    "- Sample row of the data frame"
   ]
  },
  {
   "cell_type": "code",
   "execution_count": 77,
   "metadata": {},
   "outputs": [
    {
     "data": {
      "text/plain": [
       "(90348, 31)"
      ]
     },
     "execution_count": 77,
     "metadata": {},
     "output_type": "execute_result"
    }
   ],
   "source": [
    "# check the number of rows and columns in the dataframe\n",
    "Aviation_df_cleaned.shape"
   ]
  },
  {
   "cell_type": "code",
   "execution_count": 78,
   "metadata": {},
   "outputs": [
    {
     "data": {
      "text/plain": [
       "Index(['Event.Id', 'Investigation.Type', 'Accident.Number', 'Event.Date',\n",
       "       'Location', 'Country', 'Latitude', 'Longitude', 'Airport.Code',\n",
       "       'Airport.Name', 'Injury.Severity', 'Aircraft.damage',\n",
       "       'Aircraft.Category', 'Registration.Number', 'Make', 'Model',\n",
       "       'Amateur.Built', 'Number.of.Engines', 'Engine.Type', 'FAR.Description',\n",
       "       'Schedule', 'Purpose.of.flight', 'Air.carrier', 'Total.Fatal.Injuries',\n",
       "       'Total.Serious.Injuries', 'Total.Minor.Injuries', 'Total.Uninjured',\n",
       "       'Weather.Condition', 'Broad.phase.of.flight', 'Report.Status',\n",
       "       'Publication.Date'],\n",
       "      dtype='object')"
      ]
     },
     "execution_count": 78,
     "metadata": {},
     "output_type": "execute_result"
    }
   ],
   "source": [
    "# list of the columns in the dataframe\n",
    "Aviation_df_cleaned.columns"
   ]
  },
  {
   "cell_type": "code",
   "execution_count": 79,
   "metadata": {},
   "outputs": [
    {
     "name": "stdout",
     "output_type": "stream",
     "text": [
      "<class 'pandas.core.frame.DataFrame'>\n",
      "RangeIndex: 90348 entries, 0 to 90347\n",
      "Data columns (total 31 columns):\n",
      " #   Column                  Non-Null Count  Dtype  \n",
      "---  ------                  --------------  -----  \n",
      " 0   Event.Id                88889 non-null  object \n",
      " 1   Investigation.Type      90348 non-null  object \n",
      " 2   Accident.Number         88889 non-null  object \n",
      " 3   Event.Date              88889 non-null  object \n",
      " 4   Location                88837 non-null  object \n",
      " 5   Country                 88663 non-null  object \n",
      " 6   Latitude                34382 non-null  object \n",
      " 7   Longitude               34373 non-null  object \n",
      " 8   Airport.Code            50249 non-null  object \n",
      " 9   Airport.Name            52790 non-null  object \n",
      " 10  Injury.Severity         87889 non-null  object \n",
      " 11  Aircraft.damage         85695 non-null  object \n",
      " 12  Aircraft.Category       32287 non-null  object \n",
      " 13  Registration.Number     87572 non-null  object \n",
      " 14  Make                    88826 non-null  object \n",
      " 15  Model                   88797 non-null  object \n",
      " 16  Amateur.Built           88787 non-null  object \n",
      " 17  Number.of.Engines       82805 non-null  float64\n",
      " 18  Engine.Type             81812 non-null  object \n",
      " 19  FAR.Description         32023 non-null  object \n",
      " 20  Schedule                12582 non-null  object \n",
      " 21  Purpose.of.flight       82697 non-null  object \n",
      " 22  Air.carrier             16648 non-null  object \n",
      " 23  Total.Fatal.Injuries    77488 non-null  float64\n",
      " 24  Total.Serious.Injuries  76379 non-null  float64\n",
      " 25  Total.Minor.Injuries    76956 non-null  float64\n",
      " 26  Total.Uninjured         82977 non-null  float64\n",
      " 27  Weather.Condition       84397 non-null  object \n",
      " 28  Broad.phase.of.flight   61724 non-null  object \n",
      " 29  Report.Status           82508 non-null  object \n",
      " 30  Publication.Date        73659 non-null  object \n",
      "dtypes: float64(5), object(26)\n",
      "memory usage: 21.4+ MB\n"
     ]
    }
   ],
   "source": [
    "# check the data types of the columns in the dataframe\n",
    "Aviation_df_cleaned.info()"
   ]
  },
  {
   "cell_type": "code",
   "execution_count": 80,
   "metadata": {},
   "outputs": [
    {
     "data": {
      "text/plain": [
       "Event.Id                   1459\n",
       "Investigation.Type            0\n",
       "Accident.Number            1459\n",
       "Event.Date                 1459\n",
       "Location                   1511\n",
       "Country                    1685\n",
       "Latitude                  55966\n",
       "Longitude                 55975\n",
       "Airport.Code              40099\n",
       "Airport.Name              37558\n",
       "Injury.Severity            2459\n",
       "Aircraft.damage            4653\n",
       "Aircraft.Category         58061\n",
       "Registration.Number        2776\n",
       "Make                       1522\n",
       "Model                      1551\n",
       "Amateur.Built              1561\n",
       "Number.of.Engines          7543\n",
       "Engine.Type                8536\n",
       "FAR.Description           58325\n",
       "Schedule                  77766\n",
       "Purpose.of.flight          7651\n",
       "Air.carrier               73700\n",
       "Total.Fatal.Injuries      12860\n",
       "Total.Serious.Injuries    13969\n",
       "Total.Minor.Injuries      13392\n",
       "Total.Uninjured            7371\n",
       "Weather.Condition          5951\n",
       "Broad.phase.of.flight     28624\n",
       "Report.Status              7840\n",
       "Publication.Date          16689\n",
       "dtype: int64"
      ]
     },
     "execution_count": 80,
     "metadata": {},
     "output_type": "execute_result"
    }
   ],
   "source": [
    "# check for missing values in the dataframe\n",
    "Aviation_df_cleaned.isnull().sum()"
   ]
  },
  {
   "cell_type": "code",
   "execution_count": 81,
   "metadata": {},
   "outputs": [
    {
     "data": {
      "text/plain": [
       "1390"
      ]
     },
     "execution_count": 81,
     "metadata": {},
     "output_type": "execute_result"
    }
   ],
   "source": [
    "# check for duplicates in the dataframe\n",
    "duplicate_rows = Aviation_df_cleaned.duplicated().sum() # Display the number of duplicate rows in the dataframe\n",
    "duplicate_rows"
   ]
  },
  {
   "cell_type": "code",
   "execution_count": 82,
   "metadata": {},
   "outputs": [
    {
     "data": {
      "text/html": [
       "<div>\n",
       "<style scoped>\n",
       "    .dataframe tbody tr th:only-of-type {\n",
       "        vertical-align: middle;\n",
       "    }\n",
       "\n",
       "    .dataframe tbody tr th {\n",
       "        vertical-align: top;\n",
       "    }\n",
       "\n",
       "    .dataframe thead th {\n",
       "        text-align: right;\n",
       "    }\n",
       "</style>\n",
       "<table border=\"1\" class=\"dataframe\">\n",
       "  <thead>\n",
       "    <tr style=\"text-align: right;\">\n",
       "      <th></th>\n",
       "      <th>Number.of.Engines</th>\n",
       "      <th>Total.Fatal.Injuries</th>\n",
       "      <th>Total.Serious.Injuries</th>\n",
       "      <th>Total.Minor.Injuries</th>\n",
       "      <th>Total.Uninjured</th>\n",
       "    </tr>\n",
       "  </thead>\n",
       "  <tbody>\n",
       "    <tr>\n",
       "      <th>count</th>\n",
       "      <td>82805.000000</td>\n",
       "      <td>77488.000000</td>\n",
       "      <td>76379.000000</td>\n",
       "      <td>76956.000000</td>\n",
       "      <td>82977.000000</td>\n",
       "    </tr>\n",
       "    <tr>\n",
       "      <th>mean</th>\n",
       "      <td>1.146585</td>\n",
       "      <td>0.647855</td>\n",
       "      <td>0.279881</td>\n",
       "      <td>0.357061</td>\n",
       "      <td>5.325440</td>\n",
       "    </tr>\n",
       "    <tr>\n",
       "      <th>std</th>\n",
       "      <td>0.446510</td>\n",
       "      <td>5.485960</td>\n",
       "      <td>1.544084</td>\n",
       "      <td>2.235625</td>\n",
       "      <td>27.913634</td>\n",
       "    </tr>\n",
       "    <tr>\n",
       "      <th>min</th>\n",
       "      <td>0.000000</td>\n",
       "      <td>0.000000</td>\n",
       "      <td>0.000000</td>\n",
       "      <td>0.000000</td>\n",
       "      <td>0.000000</td>\n",
       "    </tr>\n",
       "    <tr>\n",
       "      <th>25%</th>\n",
       "      <td>1.000000</td>\n",
       "      <td>0.000000</td>\n",
       "      <td>0.000000</td>\n",
       "      <td>0.000000</td>\n",
       "      <td>0.000000</td>\n",
       "    </tr>\n",
       "    <tr>\n",
       "      <th>50%</th>\n",
       "      <td>1.000000</td>\n",
       "      <td>0.000000</td>\n",
       "      <td>0.000000</td>\n",
       "      <td>0.000000</td>\n",
       "      <td>1.000000</td>\n",
       "    </tr>\n",
       "    <tr>\n",
       "      <th>75%</th>\n",
       "      <td>1.000000</td>\n",
       "      <td>0.000000</td>\n",
       "      <td>0.000000</td>\n",
       "      <td>0.000000</td>\n",
       "      <td>2.000000</td>\n",
       "    </tr>\n",
       "    <tr>\n",
       "      <th>max</th>\n",
       "      <td>8.000000</td>\n",
       "      <td>349.000000</td>\n",
       "      <td>161.000000</td>\n",
       "      <td>380.000000</td>\n",
       "      <td>699.000000</td>\n",
       "    </tr>\n",
       "  </tbody>\n",
       "</table>\n",
       "</div>"
      ],
      "text/plain": [
       "       Number.of.Engines  Total.Fatal.Injuries  Total.Serious.Injuries  \\\n",
       "count       82805.000000          77488.000000            76379.000000   \n",
       "mean            1.146585              0.647855                0.279881   \n",
       "std             0.446510              5.485960                1.544084   \n",
       "min             0.000000              0.000000                0.000000   \n",
       "25%             1.000000              0.000000                0.000000   \n",
       "50%             1.000000              0.000000                0.000000   \n",
       "75%             1.000000              0.000000                0.000000   \n",
       "max             8.000000            349.000000              161.000000   \n",
       "\n",
       "       Total.Minor.Injuries  Total.Uninjured  \n",
       "count          76956.000000     82977.000000  \n",
       "mean               0.357061         5.325440  \n",
       "std                2.235625        27.913634  \n",
       "min                0.000000         0.000000  \n",
       "25%                0.000000         0.000000  \n",
       "50%                0.000000         1.000000  \n",
       "75%                0.000000         2.000000  \n",
       "max              380.000000       699.000000  "
      ]
     },
     "execution_count": 82,
     "metadata": {},
     "output_type": "execute_result"
    }
   ],
   "source": [
    "# Display summary statistics of all columns in the dataframe\n",
    "Aviation_df_cleaned.describe() "
   ]
  },
  {
   "cell_type": "code",
   "execution_count": 83,
   "metadata": {},
   "outputs": [
    {
     "data": {
      "text/html": [
       "<div>\n",
       "<style scoped>\n",
       "    .dataframe tbody tr th:only-of-type {\n",
       "        vertical-align: middle;\n",
       "    }\n",
       "\n",
       "    .dataframe tbody tr th {\n",
       "        vertical-align: top;\n",
       "    }\n",
       "\n",
       "    .dataframe thead th {\n",
       "        text-align: right;\n",
       "    }\n",
       "</style>\n",
       "<table border=\"1\" class=\"dataframe\">\n",
       "  <thead>\n",
       "    <tr style=\"text-align: right;\">\n",
       "      <th></th>\n",
       "      <th>Event.Id</th>\n",
       "      <th>Investigation.Type</th>\n",
       "      <th>Accident.Number</th>\n",
       "      <th>Event.Date</th>\n",
       "      <th>Location</th>\n",
       "      <th>Country</th>\n",
       "      <th>Latitude</th>\n",
       "      <th>Longitude</th>\n",
       "      <th>Airport.Code</th>\n",
       "      <th>Airport.Name</th>\n",
       "      <th>...</th>\n",
       "      <th>Purpose.of.flight</th>\n",
       "      <th>Air.carrier</th>\n",
       "      <th>Total.Fatal.Injuries</th>\n",
       "      <th>Total.Serious.Injuries</th>\n",
       "      <th>Total.Minor.Injuries</th>\n",
       "      <th>Total.Uninjured</th>\n",
       "      <th>Weather.Condition</th>\n",
       "      <th>Broad.phase.of.flight</th>\n",
       "      <th>Report.Status</th>\n",
       "      <th>Publication.Date</th>\n",
       "    </tr>\n",
       "  </thead>\n",
       "  <tbody>\n",
       "    <tr>\n",
       "      <th>42338</th>\n",
       "      <td>20001208X08392</td>\n",
       "      <td>Accident</td>\n",
       "      <td>FTW97LA282</td>\n",
       "      <td>1997-07-27</td>\n",
       "      <td>TAHLEQUAH, OK</td>\n",
       "      <td>United States</td>\n",
       "      <td>NaN</td>\n",
       "      <td>NaN</td>\n",
       "      <td>H73</td>\n",
       "      <td>TAHLEQUAH MUNICIPAL</td>\n",
       "      <td>...</td>\n",
       "      <td>Personal</td>\n",
       "      <td>NaN</td>\n",
       "      <td>0.0</td>\n",
       "      <td>0.0</td>\n",
       "      <td>1.0</td>\n",
       "      <td>0.0</td>\n",
       "      <td>VMC</td>\n",
       "      <td>Landing</td>\n",
       "      <td>Probable Cause</td>\n",
       "      <td>26-06-1998</td>\n",
       "    </tr>\n",
       "  </tbody>\n",
       "</table>\n",
       "<p>1 rows × 31 columns</p>\n",
       "</div>"
      ],
      "text/plain": [
       "             Event.Id Investigation.Type Accident.Number  Event.Date  \\\n",
       "42338  20001208X08392           Accident      FTW97LA282  1997-07-27   \n",
       "\n",
       "            Location        Country Latitude Longitude Airport.Code  \\\n",
       "42338  TAHLEQUAH, OK  United States      NaN       NaN          H73   \n",
       "\n",
       "              Airport.Name  ... Purpose.of.flight Air.carrier  \\\n",
       "42338  TAHLEQUAH MUNICIPAL  ...          Personal         NaN   \n",
       "\n",
       "      Total.Fatal.Injuries Total.Serious.Injuries Total.Minor.Injuries  \\\n",
       "42338                  0.0                    0.0                  1.0   \n",
       "\n",
       "      Total.Uninjured Weather.Condition  Broad.phase.of.flight  \\\n",
       "42338             0.0               VMC                Landing   \n",
       "\n",
       "        Report.Status Publication.Date  \n",
       "42338  Probable Cause       26-06-1998  \n",
       "\n",
       "[1 rows x 31 columns]"
      ]
     },
     "execution_count": 83,
     "metadata": {},
     "output_type": "execute_result"
    }
   ],
   "source": [
    "# view a sample row of the dataframe\n",
    "Aviation_df_cleaned.sample() "
   ]
  },
  {
   "cell_type": "markdown",
   "metadata": {},
   "source": [
    "# DATA UNDERSTANDING\n",
    "\n",
    "## DATA SOURCES\n",
    "The dataset used for this analysis provides a historical record of aviation accidents and safety incidences recorded from various regulatory bodies.\n",
    "\n",
    "The dataset contains detailed information on aircraft accidents,injuries and aircraft types that provide an ideal understanding of the safety profiles of various aircrafts which is in line with our project's objective to identify the *lowest risk aircraft* for purchase."
   ]
  },
  {
   "cell_type": "markdown",
   "metadata": {},
   "source": [
    "### DATASET SIZE AND SHAPE\n",
    "\n",
    "The dataset contains **90,348 rows** and **31 columns**. \n",
    "\n",
    "Each row represents an individual aviation accident, while the columns contain various features such as the **aircraft make**, **model**, **number of injuries**, **weather conditions**.\n",
    "\n",
    "The dataset’s affirms that we have reasonable amount of data useful for assessing trends and risks associated with different aircraft types.\n",
    "\n",
    "However, some columns might not be relevant to our analysis, and we may choose to drop those in the **Data Preparation** phase."
   ]
  },
  {
   "cell_type": "markdown",
   "metadata": {},
   "source": [
    "### Key Features\n",
    "The following columns are key to assessing the aircraft's safety and risk:\n",
    "\n",
    "- Total.Fatal.Injuries: The number of fatalities in the accident.\n",
    "\n",
    "- Total.Serious.Injuries: The number of serious injuries in the accident.\n",
    "\n",
    "- Total.Minor.Injuries: The number of minor injuries in the accident.\n",
    "\n",
    "- Aircraft.damage: The extent of damage to the aircraft (e.g., Substantial, Destroyed).\n",
    "\n",
    "- Make: The manufacturer of the aircraft.\n",
    "\n",
    "- Model: The specific model of the aircraft.\n",
    "\n",
    "- Engine.Type: The type of engine (e.g., Turbofan, Piston).\n",
    "\n",
    "- Broad.Phase.of.flight: The different stages during which the aviation accident occured(e.g cruise,landing)\n",
    "\n",
    "- Weather.Condition: The weather conditions during the accident."
   ]
  },
  {
   "cell_type": "markdown",
   "metadata": {},
   "source": [
    "### Missing Values\n",
    "There are some missing values in the various columns. These missing values will be addressed in the Data Preparation phase, possibly through imputation or by dropping rows with critical missing data."
   ]
  },
  {
   "cell_type": "markdown",
   "metadata": {},
   "source": [
    "### Descriptive Statistics\n",
    "The dataset provides various descriptive statistics such as the mean and standard deviation for numerical data, which can help us understand the severity of accidents related to different aircraft.\n",
    "\n",
    "Key Statistics Breakdown:\n",
    "\n",
    "1. Number.of.Engines:\n",
    "    Mean: 1.15 engines per aircraft,indicating that most aircrafts in the dataset have either 1 or 2 engines\n",
    "    Min: 0 engines (likely an error or a missing value; could indicate data entry issues).\n",
    "    Max: 8 engines (likely large aircraft or military aircraft).\n",
    "\n",
    "Interpretation: The majority of aircraft are likely to be smaller commercial or private aircraft with 1 or 2 engines, which is important for evaluating risk as engine count may correlate with reliability and risk.\n",
    "\n",
    "2. Total.Fatal.Injuries:\n",
    "    Mean: 0.65 fatalities per incident, indicating that, on average, accidents involve less than one fatality.\n",
    "    Std: 5.49 (large variability). Some accidents involve a very high number of fatalities, which indicates that some aircraft models may have a high risk of fatal incidents.\n",
    "    Min: 0 fatalities (some accidents had no fatalities).\n",
    "    Max: 349 fatalities (extremely high number, likely due to large commercial aircraft crashes or high-impact accidents).\n",
    "\n",
    "Interpretation: Aircraft models with a higher number of fatalities should be considered higher-risk for the company.\n",
    "\n",
    "3. Total.Serious.Injuries:\n",
    "    Mean: 0.28 serious injuries per incident, suggesting that most accidents result in minor or no serious injuries.\n",
    "    Std: 1.54 (again, large variability), indicating that while most accidents cause few serious injuries, some accidents cause many.\n",
    "    Min: 0 serious injuries (some accidents had no serious injuries).\n",
    "    Max: 161 serious injuries (indicating major incidents with severe consequences).\n",
    "\n",
    "Interpretation: Serious injuries are an important factor in assessing risk, with aircraft involved in incidents causing more serious injuries being higher risk.\n",
    "\n",
    "4. Total.Minor.Injuries:\n",
    "    Mean: 0.36 minor injuries per incident, suggesting that minor injuries are somewhat common in accidents, though they are not the most severe.\n",
    "    Std: 2.24 (indicating significant variability).\n",
    "    Min: 0 minor injuries (some accidents had no minor injuries).\n",
    "    Max: 380 minor injuries (again, showing some very severe accidents with a high number of minor injuries).\n",
    "\n",
    "Interpretation: Minor injuries might not be as severe as fatal or serious injuries, but frequent occurrences can still indicate riskier aircraft types.\n",
    "\n",
    "5. Total.Uninjured:\n",
    "    Mean: 5.33 people uninjured per accident, indicating that the majority of passengers are often uninjured in an accident.\n",
    "    Std: 27.91 (very large variability), showing that in some accidents, all passengers may be uninjured, while in others, the number may be much lower.\n",
    "    Min: 0 uninjured (indicating some accidents with no survivors).\n",
    "    Max: 699 uninjured (again, likely a major accident involving a large aircraft or multiple passengers).\n",
    "\n",
    "Interpretation: Higher numbers of uninjured individuals in an accident typically point to less risky accidents, though extreme cases may suggest safety issues with certain aircraft types."
   ]
  },
  {
   "cell_type": "markdown",
   "metadata": {},
   "source": [
    "### Limitations\n",
    "While this dataset is highly useful, there are a few limitations that must be considered:\n",
    "\n",
    "* Missing or Incomplete Data: Some entries might have missing values, particularly for features like Total.Fatal.Injuries or Aircraft.damage. Missing data can skew the analysis and may need imputation or careful handling.\n",
    "\n",
    "* Bias in Reporting: The dataset may over-represent certain aircraft manufacturers or countries, leading to potential bias in the findings. Not all accidents are equally reported across regions.\n",
    "\n",
    "* Data Granularity: Some features may be too generalized (e.g., Weather.Condition or Purpose.of.flight), making it difficult to discern more specific risk factors tied to certain aircraft models or operational environments.\n",
    "\n",
    "* Inconsistent Definitions: Differences in how accidents are classified and reported across regions or agencies can lead to inconsistencies in the data.\n",
    "\n",
    "* Time-Based Trends: Over time, improvements in technology and safety measures may not be fully reflected, meaning older aircraft models might seem riskier than they actually are in contemporary contexts.."
   ]
  },
  {
   "cell_type": "markdown",
   "metadata": {},
   "source": [
    "# DATA PREPARATION\n"
   ]
  },
  {
   "cell_type": "markdown",
   "metadata": {},
   "source": [
    "## Drop unwanted columns\n"
   ]
  },
  {
   "cell_type": "code",
   "execution_count": 84,
   "metadata": {},
   "outputs": [],
   "source": [
    "# list of the columns to be dropped\n",
    "columns_to_drop = [\n",
    "    'Event.Id', 'Accident.Number', 'Investigation.Type', 'Registration.Number',\n",
    "    'Latitude', 'Longitude', 'Airport.Code', 'Airport.Name', 'Report.Status',\n",
    "    'Publication.Date', 'Air.carrier','FAR.Description','Location','Country'\n",
    "]\n"
   ]
  },
  {
   "cell_type": "code",
   "execution_count": 85,
   "metadata": {},
   "outputs": [],
   "source": [
    "# drop the columns from the dataframe\n",
    "Aviation_df_cleaned= Aviation_df_cleaned.drop(columns=columns_to_drop)\n"
   ]
  },
  {
   "cell_type": "code",
   "execution_count": 86,
   "metadata": {},
   "outputs": [
    {
     "name": "stdout",
     "output_type": "stream",
     "text": [
      "<class 'pandas.core.frame.DataFrame'>\n",
      "RangeIndex: 90348 entries, 0 to 90347\n",
      "Data columns (total 17 columns):\n",
      " #   Column                  Non-Null Count  Dtype  \n",
      "---  ------                  --------------  -----  \n",
      " 0   Event.Date              88889 non-null  object \n",
      " 1   Injury.Severity         87889 non-null  object \n",
      " 2   Aircraft.damage         85695 non-null  object \n",
      " 3   Aircraft.Category       32287 non-null  object \n",
      " 4   Make                    88826 non-null  object \n",
      " 5   Model                   88797 non-null  object \n",
      " 6   Amateur.Built           88787 non-null  object \n",
      " 7   Number.of.Engines       82805 non-null  float64\n",
      " 8   Engine.Type             81812 non-null  object \n",
      " 9   Schedule                12582 non-null  object \n",
      " 10  Purpose.of.flight       82697 non-null  object \n",
      " 11  Total.Fatal.Injuries    77488 non-null  float64\n",
      " 12  Total.Serious.Injuries  76379 non-null  float64\n",
      " 13  Total.Minor.Injuries    76956 non-null  float64\n",
      " 14  Total.Uninjured         82977 non-null  float64\n",
      " 15  Weather.Condition       84397 non-null  object \n",
      " 16  Broad.phase.of.flight   61724 non-null  object \n",
      "dtypes: float64(5), object(12)\n",
      "memory usage: 11.7+ MB\n"
     ]
    },
    {
     "data": {
      "text/plain": [
       "(90348, 17)"
      ]
     },
     "execution_count": 86,
     "metadata": {},
     "output_type": "execute_result"
    }
   ],
   "source": [
    "Aviation_df_cleaned.info() # Display the information of the cleaned dataframe\n",
    "Aviation_df_cleaned.shape # Display the shape of the cleaned dataframe"
   ]
  },
  {
   "cell_type": "code",
   "execution_count": 87,
   "metadata": {},
   "outputs": [
    {
     "data": {
      "text/plain": [
       "Event.Date                 1459\n",
       "Injury.Severity            2459\n",
       "Aircraft.damage            4653\n",
       "Aircraft.Category         58061\n",
       "Make                       1522\n",
       "Model                      1551\n",
       "Amateur.Built              1561\n",
       "Number.of.Engines          7543\n",
       "Engine.Type                8536\n",
       "Schedule                  77766\n",
       "Purpose.of.flight          7651\n",
       "Total.Fatal.Injuries      12860\n",
       "Total.Serious.Injuries    13969\n",
       "Total.Minor.Injuries      13392\n",
       "Total.Uninjured            7371\n",
       "Weather.Condition          5951\n",
       "Broad.phase.of.flight     28624\n",
       "dtype: int64"
      ]
     },
     "execution_count": 87,
     "metadata": {},
     "output_type": "execute_result"
    }
   ],
   "source": [
    "# check for missing data in the cleaned dataframe\n",
    "missing_values_cleaned = Aviation_df_cleaned.isnull().sum()\n",
    "missing_values_cleaned"
   ]
  },
  {
   "cell_type": "markdown",
   "metadata": {},
   "source": [
    "## Handling missing Data"
   ]
  },
  {
   "cell_type": "code",
   "execution_count": 88,
   "metadata": {},
   "outputs": [
    {
     "data": {
      "text/plain": [
       "0         Unknown\n",
       "1         Unknown\n",
       "2         Unknown\n",
       "3         Unknown\n",
       "4         Unknown\n",
       "           ...   \n",
       "90343     Unknown\n",
       "90344     Unknown\n",
       "90345    Airplane\n",
       "90346     Unknown\n",
       "90347     Unknown\n",
       "Name: Aircraft.Category, Length: 90348, dtype: object"
      ]
     },
     "execution_count": 88,
     "metadata": {},
     "output_type": "execute_result"
    }
   ],
   "source": [
    "# Aircraft.Category\n",
    "# Check the distribution of the 'Aircraft.Category' column\n",
    "Aviation_df_cleaned['Aircraft.Category'].value_counts()\n",
    "\n",
    "# Fill the missing values with 'Unknown'\n",
    "Aviation_df_cleaned['Aircraft.Category'].fillna('Unknown')"
   ]
  },
  {
   "cell_type": "markdown",
   "metadata": {},
   "source": [
    "This shows that the most common category in the 'Aircraft Category' column is 'Aeroplane'"
   ]
  },
  {
   "cell_type": "code",
   "execution_count": 89,
   "metadata": {},
   "outputs": [],
   "source": [
    "# # fill missing values in the broad phase of flight column with Unknown\n",
    "Aviation_df_cleaned['Broad.phase.of.flight']= Aviation_df_cleaned['Broad.phase.of.flight'].fillna('Unknown') "
   ]
  },
  {
   "cell_type": "code",
   "execution_count": 90,
   "metadata": {},
   "outputs": [],
   "source": [
    "# fill the injury columns with 0\n",
    "injury_columns = ['Total.Fatal.Injuries', 'Total.Serious.Injuries', 'Total.Minor.Injuries', 'Total.Uninjured']\n",
    "for column in injury_columns:\n",
    "    Aviation_df_cleaned[column] = Aviation_df_cleaned[column].fillna(0)"
   ]
  },
  {
   "cell_type": "code",
   "execution_count": 91,
   "metadata": {},
   "outputs": [],
   "source": [
    "# FILL 'Number.of.Engine' missing values with 1\n",
    "Aviation_df_cleaned['Number.of.Engines'] = Aviation_df_cleaned['Number.of.Engines'].fillna(1) "
   ]
  },
  {
   "cell_type": "code",
   "execution_count": 92,
   "metadata": {},
   "outputs": [],
   "source": [
    "# fill  'Engine.Type' missing values with 'mode of the column'\n",
    "Aviation_df_cleaned['Engine.Type'] = Aviation_df_cleaned['Engine.Type'].fillna(Aviation_df_cleaned['Engine.Type'].mode()[0]) \n"
   ]
  },
  {
   "cell_type": "code",
   "execution_count": 93,
   "metadata": {},
   "outputs": [],
   "source": [
    "# fill the missing values in the 'weather condition' column with the mode of the column\n",
    "Aviation_df_cleaned['Weather.Condition'] = Aviation_df_cleaned['Weather.Condition'].fillna(Aviation_df_cleaned['Weather.Condition'].mode()[0]) "
   ]
  },
  {
   "cell_type": "code",
   "execution_count": 94,
   "metadata": {},
   "outputs": [],
   "source": [
    "# fill the missing values in 'aircraft damage' column with the mode of the column\n",
    "Aviation_df_cleaned['Aircraft.damage'] = Aviation_df_cleaned['Aircraft.damage'].fillna(Aviation_df_cleaned['Aircraft.damage'].mode()[0])\n"
   ]
  },
  {
   "cell_type": "code",
   "execution_count": 95,
   "metadata": {},
   "outputs": [],
   "source": [
    "# check the unique values in 'injury severity' column\n",
    "Aviation_df_cleaned['Injury.Severity'].value_counts() # Display the value counts of the 'Injury.Severity' column\n",
    "# fill the missing data in 'injury severity' column with the mode of the column\n",
    "Aviation_df_cleaned['Injury.Severity'] = Aviation_df_cleaned['Injury.Severity'].fillna(Aviation_df_cleaned['Injury.Severity'].mode()[0])"
   ]
  },
  {
   "cell_type": "code",
   "execution_count": 96,
   "metadata": {},
   "outputs": [],
   "source": [
    "# fill the missing values in the 'Model' columns with 'Unknown'\n",
    "Aviation_df_cleaned['Model'] = Aviation_df_cleaned['Model'].fillna('Unknown') \n"
   ]
  },
  {
   "cell_type": "code",
   "execution_count": 97,
   "metadata": {},
   "outputs": [],
   "source": [
    "#make column\n",
    "Aviation_df_cleaned['Make']= Aviation_df_cleaned['Make'].fillna('Unknown')"
   ]
  },
  {
   "cell_type": "code",
   "execution_count": 98,
   "metadata": {},
   "outputs": [],
   "source": [
    "# Extract the year from the 'Event.Date' column and create a new column 'Year'\n",
    "Aviation_df_cleaned['Year'] = pd.to_datetime(Aviation_df_cleaned['Event.Date'], errors='coerce').dt.year"
   ]
  },
  {
   "cell_type": "code",
   "execution_count": 99,
   "metadata": {},
   "outputs": [],
   "source": [
    "# Delete records from 2000 and before\n",
    "Aviation_df_cleaned = Aviation_df_cleaned[Aviation_df_cleaned['Year'] > 2000]"
   ]
  },
  {
   "cell_type": "code",
   "execution_count": 100,
   "metadata": {},
   "outputs": [
    {
     "data": {
      "text/plain": [
       "Index(['Event.Date', 'Injury.Severity', 'Aircraft.damage', 'Aircraft.Category',\n",
       "       'Make', 'Model', 'Amateur.Built', 'Number.of.Engines', 'Engine.Type',\n",
       "       'Schedule', 'Purpose.of.flight', 'Total.Fatal.Injuries',\n",
       "       'Total.Serious.Injuries', 'Total.Minor.Injuries', 'Total.Uninjured',\n",
       "       'Weather.Condition', 'Broad.phase.of.flight', 'Year'],\n",
       "      dtype='object')"
      ]
     },
     "execution_count": 100,
     "metadata": {},
     "output_type": "execute_result"
    }
   ],
   "source": [
    " # Display the columns of the cleaned dataframe\n",
    "Aviation_df_cleaned.columns"
   ]
  },
  {
   "cell_type": "code",
   "execution_count": 101,
   "metadata": {},
   "outputs": [],
   "source": [
    "# fill the missing values in the 'Aircraft.Category' column with 'Unknown'\n",
    "Aviation_df_cleaned['Aircraft.Category'] = Aviation_df_cleaned['Aircraft.Category'].fillna('Unknown')"
   ]
  },
  {
   "cell_type": "code",
   "execution_count": 102,
   "metadata": {},
   "outputs": [],
   "source": [
    "#Drop the rows with mising values in the 'purpose of flight' column\n",
    "Aviation_df_cleaned = Aviation_df_cleaned.dropna(subset=['Purpose.of.flight'])"
   ]
  },
  {
   "cell_type": "code",
   "execution_count": 103,
   "metadata": {},
   "outputs": [
    {
     "data": {
      "text/plain": [
       "Event.Date                    0\n",
       "Injury.Severity               0\n",
       "Aircraft.damage               0\n",
       "Aircraft.Category             0\n",
       "Make                          0\n",
       "Model                         0\n",
       "Amateur.Built                33\n",
       "Number.of.Engines             0\n",
       "Engine.Type                   0\n",
       "Schedule                  32497\n",
       "Purpose.of.flight             0\n",
       "Total.Fatal.Injuries          0\n",
       "Total.Serious.Injuries        0\n",
       "Total.Minor.Injuries          0\n",
       "Total.Uninjured               0\n",
       "Weather.Condition             0\n",
       "Broad.phase.of.flight         0\n",
       "Year                          0\n",
       "dtype: int64"
      ]
     },
     "execution_count": 103,
     "metadata": {},
     "output_type": "execute_result"
    }
   ],
   "source": [
    "# check for missing values in the cleaned dataframe\n",
    "missing_values_cleaned = Aviation_df_cleaned.isnull().sum()\n",
    "missing_values_cleaned"
   ]
  },
  {
   "cell_type": "code",
   "execution_count": 104,
   "metadata": {},
   "outputs": [
    {
     "data": {
      "text/plain": [
       "(32954, 18)"
      ]
     },
     "execution_count": 104,
     "metadata": {},
     "output_type": "execute_result"
    }
   ],
   "source": [
    "#shape of the cleaned dataframe\n",
    "Aviation_df_cleaned.shape"
   ]
  },
  {
   "cell_type": "markdown",
   "metadata": {},
   "source": [
    "# ANALYSIS\n",
    "\n",
    "This helps us to understand the basisc distributions by knowing which categories dominate"
   ]
  },
  {
   "cell_type": "code",
   "execution_count": 105,
   "metadata": {},
   "outputs": [
    {
     "data": {
      "text/plain": [
       "VMC    31258\n",
       "IMC     1566\n",
       "Unk      129\n",
       "UNK        1\n",
       "Name: Weather.Condition, dtype: int64"
      ]
     },
     "execution_count": 105,
     "metadata": {},
     "output_type": "execute_result"
    }
   ],
   "source": [
    "Aviation_df_cleaned['Aircraft.Category'].value_counts()\n",
    "Aviation_df_cleaned['Injury.Severity'].value_counts()\n",
    "Aviation_df_cleaned['Aircraft.damage'].value_counts()\n",
    "Aviation_df_cleaned['Weather.Condition'].value_counts()\n"
   ]
  },
  {
   "cell_type": "markdown",
   "metadata": {},
   "source": [
    "# Which aircraft category has more fatal accidents\n"
   ]
  },
  {
   "cell_type": "code",
   "execution_count": 106,
   "metadata": {},
   "outputs": [
    {
     "data": {
      "image/png": "[encoded data removed]",
      "text/plain": [
       "<Figure size 720x432 with 1 Axes>"
      ]
     },
     "metadata": {
      "needs_background": "light"
     },
     "output_type": "display_data"
    }
   ],
   "source": [
    "plt.figure(figsize=(10,6))\n",
    "\n",
    "x = Aviation_df_cleaned['Aircraft.Category'].value_counts().index\n",
    "y= Aviation_df_cleaned['Aircraft.Category'].value_counts().values\n",
    "\n",
    "sns.countplot(data=Aviation_df_cleaned, \n",
    "              y='Aircraft.Category',   # y-axis for categories\n",
    "              order=Aviation_df_cleaned['Aircraft.Category'].value_counts().index, \n",
    "              palette='coolwarm')      # nice color theme\n",
    "\n",
    "plt.title('Accidents by Aircraft Category')\n",
    "plt.xlabel('Number of Accidents')\n",
    "plt.ylabel('Aircraft Category')\n",
    "plt.tight_layout()\n",
    "plt.show()"
   ]
  },
  {
   "cell_type": "markdown",
   "metadata": {},
   "source": [
    "# Aircrafts with least Accidents"
   ]
  },
  {
   "cell_type": "code",
   "execution_count": 107,
   "metadata": {},
   "outputs": [
    {
     "data": {
      "image/png": "[encoded data removed]",
      "text/plain": [
       "<Figure size 720x432 with 1 Axes>"
      ]
     },
     "metadata": {
      "needs_background": "light"
     },
     "output_type": "display_data"
    }
   ],
   "source": [
    "# AIRCRAFT WITH LEAST ACCIDENTS BARPLOT\n",
    "\n",
    "plt.figure(figsize=(10,6))\n",
    "x = Aviation_df_cleaned['Aircraft.Category'].value_counts().index[-10:]\n",
    "y= Aviation_df_cleaned['Aircraft.Category'].value_counts().values[-10:]\n",
    "\n",
    "sns.countplot(data=Aviation_df_cleaned,\n",
    "              y='Aircraft.Category',   # y-axis for categories\n",
    "              order=Aviation_df_cleaned['Aircraft.Category'].value_counts().index[-10:], \n",
    "              palette='coolwarm')      # nice color theme\n",
    "plt.title('Accidents by Aircraft Category')\n",
    "plt.xlabel('Number of Accidents')\n",
    "plt.ylabel('Aircraft Category')\n",
    "plt.tight_layout()\n",
    "plt.show()"
   ]
  },
  {
   "cell_type": "code",
   "execution_count": null,
   "metadata": {},
   "outputs": [],
   "source": []
  }
 ],
 "metadata": {
  "kernelspec": {
   "display_name": "learn-env",
   "language": "python",
   "name": "python3"
  },
  "language_info": {
   "codemirror_mode": {
    "name": "ipython",
    "version": 3
   },
   "file_extension": ".py",
   "mimetype": "text/x-python",
   "name": "python",
   "nbconvert_exporter": "python",
   "pygments_lexer": "ipython3",
   "version": "3.8.5"
  }
 },
 "nbformat": 4,
 "nbformat_minor": 2
}
